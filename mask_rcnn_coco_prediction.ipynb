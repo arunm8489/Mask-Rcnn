{
 "cells": [
  {
   "cell_type": "code",
   "execution_count": 15,
   "metadata": {},
   "outputs": [],
   "source": [
    "# import the necessary packages\n",
    "from mrcnn.config import Config\n",
    "from mrcnn import model as modellib \n",
    "from mrcnn import visualize\n",
    "import numpy as np\n",
    "import colorsys\n",
    "import argparse\n",
    "import imutils\n",
    "import random\n",
    "import cv2\n",
    "import os"
   ]
  },
  {
   "cell_type": "code",
   "execution_count": 16,
   "metadata": {},
   "outputs": [],
   "source": [
    "# load the class label names from disk, one label per line\n",
    "\n",
    "class_label_file = \"pothole_label.txt\"\n",
    "\n",
    "CLASS_NAMES = open(class_label_file).read().strip().split(\"\\n\")"
   ]
  },
  {
   "cell_type": "code",
   "execution_count": 17,
   "metadata": {},
   "outputs": [],
   "source": [
    "# generate random (but visually distinct) colors for each class label\n",
    "# (thanks to Matterport Mask R-CNN for the method!)\n",
    "hsv = [(i / len(CLASS_NAMES), 1, 1.0) for i in range(len(CLASS_NAMES))]\n",
    "COLORS = list(map(lambda c: colorsys.hsv_to_rgb(*c), hsv))\n",
    "random.seed(42)\n",
    "random.shuffle(COLORS)"
   ]
  },
  {
   "cell_type": "code",
   "execution_count": 18,
   "metadata": {},
   "outputs": [],
   "source": [
    "class SimpleConfig(Config):\n",
    "\t# give the configuration a recognizable name\n",
    "\tNAME = \"coco_inference\"\n",
    "\n",
    "\t# set the number of GPUs to use along with the number of images\n",
    "\t# per GPU\n",
    "\tGPU_COUNT = 1\n",
    "\tIMAGES_PER_GPU = 1\n",
    "\n",
    "\t# number of classes (we would normally add +1 for the background\n",
    "\t# but the background class is *already* included in the class\n",
    "\t# names)\n",
    "\tNUM_CLASSES = len(CLASS_NAMES)\n",
    "\n",
    "# initialize the inference configuration\n",
    "config = SimpleConfig()"
   ]
  },
  {
   "cell_type": "code",
   "execution_count": 19,
   "metadata": {},
   "outputs": [
    {
     "name": "stdout",
     "output_type": "stream",
     "text": [
      "[INFO] loading Mask R-CNN model...\n"
     ]
    }
   ],
   "source": [
    "# initialize the Mask R-CNN model for inference and then load the\n",
    "# weights\n",
    "\n",
    "weight = \"mask_rcnn_pothole_cfg_0005.h5\"\n",
    "\n",
    "print(\"[INFO] loading Mask R-CNN model...\")\n",
    "model = modellib.MaskRCNN(mode=\"inference\", config=config,\n",
    "\tmodel_dir=os.getcwd())\n",
    "model.load_weights(weight, by_name=True)"
   ]
  },
  {
   "cell_type": "code",
   "execution_count": 20,
   "metadata": {},
   "outputs": [],
   "source": [
    "# load the input image, convert it from BGR to RGB channel\n",
    "# ordering, and resize the image\n",
    "\n",
    "image_path = \"1.jpg\"\n",
    "image = cv2.imread(image_path)\n",
    "image = cv2.cvtColor(image, cv2.COLOR_BGR2RGB)\n",
    "image = imutils.resize(image, width=512)"
   ]
  },
  {
   "cell_type": "code",
   "execution_count": 21,
   "metadata": {},
   "outputs": [
    {
     "name": "stdout",
     "output_type": "stream",
     "text": [
      "[INFO] making predictions with Mask R-CNN...\n",
      "Processing 1 images\n",
      "image                    shape: (384, 512, 3)         min:    7.00000  max:  255.00000  uint8\n",
      "molded_images            shape: (1, 1024, 1024, 3)    min: -123.70000  max:  151.10000  float64\n",
      "image_metas              shape: (1, 14)               min:    0.00000  max: 1024.00000  float64\n",
      "anchors                  shape: (1, 261888, 4)        min:   -0.35390  max:    1.29134  float32\n"
     ]
    }
   ],
   "source": [
    "# perform a forward pass of the network to obtain the results\n",
    "print(\"[INFO] making predictions with Mask R-CNN...\")\n",
    "r = model.detect([image], verbose=1)[0]"
   ]
  },
  {
   "cell_type": "code",
   "execution_count": 22,
   "metadata": {},
   "outputs": [
    {
     "name": "stdout",
     "output_type": "stream",
     "text": [
      "[1 1 1]\n"
     ]
    }
   ],
   "source": [
    "#classes\n",
    "print(r['class_ids'])"
   ]
  },
  {
   "cell_type": "code",
   "execution_count": 23,
   "metadata": {},
   "outputs": [
    {
     "name": "stdout",
     "output_type": "stream",
     "text": [
      "[[228 297 240 326]\n",
      " [225 184 240 204]\n",
      " [221 431 229 461]]\n"
     ]
    }
   ],
   "source": [
    "#region of intrest\n",
    "print(r['rois'])"
   ]
  },
  {
   "cell_type": "code",
   "execution_count": 24,
   "metadata": {},
   "outputs": [
    {
     "name": "stdout",
     "output_type": "stream",
     "text": [
      "[[False False False ... False False False]\n",
      " [False False False ... False False False]\n",
      " [False False False ... False False False]\n",
      " ...\n",
      " [False False False ... False False False]\n",
      " [False False False ... False False False]\n",
      " [False False False ... False False False]]\n"
     ]
    }
   ],
   "source": [
    "#masks\n",
    "print(r['masks'][:,:,0])\n"
   ]
  },
  {
   "cell_type": "code",
   "execution_count": 25,
   "metadata": {},
   "outputs": [
    {
     "name": "stdout",
     "output_type": "stream",
     "text": [
      "[0.9852203 0.9712407 0.9275067]\n"
     ]
    }
   ],
   "source": [
    "print(r['scores'])"
   ]
  },
  {
   "cell_type": "code",
   "execution_count": 12,
   "metadata": {},
   "outputs": [
    {
     "ename": "IndexError",
     "evalue": "list index out of range",
     "output_type": "error",
     "traceback": [
      "\u001b[0;31m---------------------------------------------------------------------------\u001b[0m",
      "\u001b[0;31mIndexError\u001b[0m                                Traceback (most recent call last)",
      "\u001b[0;32m<ipython-input-12-4105c90eb7d9>\u001b[0m in \u001b[0;36m<module>\u001b[0;34m\u001b[0m\n\u001b[1;32m      5\u001b[0m         \u001b[0mclassID\u001b[0m \u001b[0;34m=\u001b[0m \u001b[0mr\u001b[0m\u001b[0;34m[\u001b[0m\u001b[0;34m\"class_ids\"\u001b[0m\u001b[0;34m]\u001b[0m\u001b[0;34m[\u001b[0m\u001b[0mi\u001b[0m\u001b[0;34m]\u001b[0m\u001b[0;34m\u001b[0m\u001b[0m\n\u001b[1;32m      6\u001b[0m         \u001b[0mmask\u001b[0m \u001b[0;34m=\u001b[0m \u001b[0mr\u001b[0m\u001b[0;34m[\u001b[0m\u001b[0;34m\"masks\"\u001b[0m\u001b[0;34m]\u001b[0m\u001b[0;34m[\u001b[0m\u001b[0;34m:\u001b[0m\u001b[0;34m,\u001b[0m \u001b[0;34m:\u001b[0m\u001b[0;34m,\u001b[0m \u001b[0mi\u001b[0m\u001b[0;34m]\u001b[0m\u001b[0;34m\u001b[0m\u001b[0m\n\u001b[0;32m----> 7\u001b[0;31m         \u001b[0mcolor\u001b[0m \u001b[0;34m=\u001b[0m \u001b[0mCOLORS\u001b[0m\u001b[0;34m[\u001b[0m\u001b[0mclassID\u001b[0m\u001b[0;34m]\u001b[0m\u001b[0;34m[\u001b[0m\u001b[0;34m:\u001b[0m\u001b[0;34m:\u001b[0m\u001b[0;34m-\u001b[0m\u001b[0;36m1\u001b[0m\u001b[0;34m]\u001b[0m\u001b[0;34m\u001b[0m\u001b[0m\n\u001b[0m\u001b[1;32m      8\u001b[0m \u001b[0;34m\u001b[0m\u001b[0m\n\u001b[1;32m      9\u001b[0m         \u001b[0;31m# visualize the pixel-wise mask of the object\u001b[0m\u001b[0;34m\u001b[0m\u001b[0;34m\u001b[0m\u001b[0m\n",
      "\u001b[0;31mIndexError\u001b[0m: list index out of range"
     ]
    }
   ],
   "source": [
    "# loop over of the detected object's bounding boxes and masks\n",
    "for i in range(0, r[\"rois\"].shape[0]):\n",
    "\t# extract the class ID and mask for the current detection, then\n",
    "\t# grab the color to visualize the mask (in BGR format)\n",
    "\tclassID = r[\"class_ids\"][i]\n",
    "\tmask = r[\"masks\"][:, :, i]\n",
    "\tcolor = COLORS[classID][::-1]\n",
    "\n",
    "\t# visualize the pixel-wise mask of the object\n",
    "\timage = visualize.apply_mask(image, mask, color, alpha=0.5)"
   ]
  },
  {
   "cell_type": "code",
   "execution_count": null,
   "metadata": {},
   "outputs": [],
   "source": [
    "# convert the image back to BGR so we can use OpenCV's drawing\n",
    "# functions\n",
    "image = cv2.cvtColor(image, cv2.COLOR_RGB2BGR)\n",
    "\n",
    "# loop over the predicted scores and class labels\n",
    "for i in range(0, len(r[\"scores\"])):\n",
    "\t# extract the bounding box information, class ID, label, predicted\n",
    "\t# probability, and visualization color\n",
    "\t(startY, startX, endY, endX) = r[\"rois\"][i]\n",
    "\tclassID = r[\"class_ids\"][i]\n",
    "\tlabel = CLASS_NAMES[classID]\n",
    "\tscore = r[\"scores\"][i]\n",
    "\tcolor = [int(c) for c in np.array(COLORS[classID]) * 255]\n",
    "\n",
    "\t# draw the bounding box, class label, and score of the object\n",
    "\tcv2.rectangle(image, (startX, startY), (endX, endY), color, 2)\n",
    "\ttext = \"{}: {:.3f}\".format(label, score)\n",
    "\ty = startY - 10 if startY - 10 > 10 else startY + 10\n",
    "\tcv2.putText(image, text, (startX, y), cv2.FONT_HERSHEY_SIMPLEX,\n",
    "\t\t0.6, color, 2)\n",
    "\n",
    "# show the output image\n",
    "cv2.imshow(\"Output\", image)\n",
    "cv2.waitKey()"
   ]
  },
  {
   "cell_type": "code",
   "execution_count": null,
   "metadata": {},
   "outputs": [],
   "source": []
  }
 ],
 "metadata": {
  "kernelspec": {
   "display_name": "Python 3",
   "language": "python",
   "name": "python3"
  },
  "language_info": {
   "codemirror_mode": {
    "name": "ipython",
    "version": 3
   },
   "file_extension": ".py",
   "mimetype": "text/x-python",
   "name": "python",
   "nbconvert_exporter": "python",
   "pygments_lexer": "ipython3",
   "version": "3.5.2"
  }
 },
 "nbformat": 4,
 "nbformat_minor": 2
}
